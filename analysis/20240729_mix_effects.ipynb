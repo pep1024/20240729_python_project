{
 "cells": [
  {
   "cell_type": "markdown",
   "metadata": {},
   "source": [
    "# Mix effect impact function iteration\n",
    "\n",
    "2024-07-30"
   ]
  },
  {
   "cell_type": "markdown",
   "metadata": {},
   "source": [
    "Different examples of python function to code mix effect impact. As a follow-up step we will take one and crate a python package."
   ]
  },
  {
   "cell_type": "code",
   "execution_count": 1,
   "metadata": {},
   "outputs": [],
   "source": [
    "import numpy as np\n",
    "import pandas as pd"
   ]
  },
  {
   "cell_type": "code",
   "execution_count": 2,
   "metadata": {},
   "outputs": [],
   "source": [
    "import sys\n",
    "import os\n",
    "\n",
    "# Get the absolute path of the src directory\n",
    "src_path = os.path.abspath(os.path.join(os.getcwd(), '..', 'src/mixeffects'))\n",
    "\n",
    "# Add src directory to the system path\n",
    "if src_path not in sys.path:\n",
    "    sys.path.insert(0, src_path)\n",
    "\n",
    "# Now you can import the miseffects module\n",
    "import mixeffects"
   ]
  },
  {
   "cell_type": "code",
   "execution_count": 3,
   "metadata": {},
   "outputs": [],
   "source": [
    "def mixcontribution(components, w1, x1, w2, x2, name1=\"reference\", name2=\"value\"):\n",
    "    # test: w1, x1, w2, x2 are numpy arrays of equal length\n",
    "    # components is a list of characters equal lenght of w1, x1, w2, x2\n",
    "    m1 = np.dot(w1, x1)\n",
    "    m2 = np.dot(w2, x2)\n",
    "    deltam = m2 - m1\n",
    "    deltam_rel = m2 / m1 - 1\n",
    "    w2x1 = np.dot(w2, x1)\n",
    "    delta_values = m2 - w2x1\n",
    "    delta_weights = w2x1 - m1\n",
    "    p_values = delta_values / deltam\n",
    "    p_weights = delta_weights / deltam\n",
    "\n",
    "    return({\n",
    "        'm1' : m1, 'm2' : m2,\n",
    "        'deltam' : deltam, 'deltam_rel' : deltam_rel,\n",
    "        'w2x1' : w2x1,\n",
    "        'delta_values' : delta_values, 'delta_weights' : delta_weights,\n",
    "        'p_values' : p_values, 'p_weights' : p_weights\n",
    "    })"
   ]
  },
  {
   "cell_type": "markdown",
   "metadata": {},
   "source": [
    "## UC Berkeley gender bias"
   ]
  },
  {
   "cell_type": "markdown",
   "metadata": {},
   "source": [
    "I apply the mix effect formula to the exemple of Simpson's paradox in [wikipedia](https://en.wikipedia.org/wiki/Simpson%27s_paradox). We compare men and women graduate school admissions to UC Berkeley (men: 44%, women: 35%). It looks like acceptance is greater for men than for women. Nevertheless, we can see that the weights of application in each department are not the same for men and women. To compare men and women acceptance we have to compare them controling the number of applicants proportion across departments. Let us do it"
   ]
  },
  {
   "cell_type": "markdown",
   "metadata": {},
   "source": [
    "### Data"
   ]
  },
  {
   "cell_type": "code",
   "execution_count": 4,
   "metadata": {},
   "outputs": [],
   "source": [
    "data_department = pd.DataFrame({'gender' : ['m'] * 6 + ['w'] * 6,\n",
    "    'department' : ['A', 'B', 'C', 'D', 'E', 'F'] * 2, 'applicants' : pd.Series([825,\t560, 325, 417, 191, 373, 108, 25, 593, 375, 393, 341]),\n",
    "    'admissions' : pd.Series([0.62, 0.63, 0.37, 0.33, 0.28, 0.06, 0.82, 0.68, 0.34, 0.35, 0.24, 0.07])})\n",
    "data_department['admitted'] = data_department['applicants'] * data_department['admissions']\n",
    "data_department['admissions_percentage'] = data_department['admissions'] * 100\n",
    "data_department['weight_by_gender_department']=data_department['applicants']/data_department.groupby('gender')['applicants'].transform('sum')\n",
    "data_men = data_department[data_department['gender'] == 'm']\n",
    "data_women = data_department[data_department['gender'] == 'w']"
   ]
  },
  {
   "cell_type": "code",
   "execution_count": 5,
   "metadata": {},
   "outputs": [
    {
     "data": {
      "text/html": [
       "<div>\n",
       "<style scoped>\n",
       "    .dataframe tbody tr th:only-of-type {\n",
       "        vertical-align: middle;\n",
       "    }\n",
       "\n",
       "    .dataframe tbody tr th {\n",
       "        vertical-align: top;\n",
       "    }\n",
       "\n",
       "    .dataframe thead th {\n",
       "        text-align: right;\n",
       "    }\n",
       "</style>\n",
       "<table border=\"1\" class=\"dataframe\">\n",
       "  <thead>\n",
       "    <tr style=\"text-align: right;\">\n",
       "      <th></th>\n",
       "      <th>gender</th>\n",
       "      <th>department</th>\n",
       "      <th>applicants</th>\n",
       "      <th>admissions</th>\n",
       "      <th>admitted</th>\n",
       "      <th>admissions_percentage</th>\n",
       "      <th>weight_by_gender_department</th>\n",
       "    </tr>\n",
       "  </thead>\n",
       "  <tbody>\n",
       "    <tr>\n",
       "      <th>0</th>\n",
       "      <td>m</td>\n",
       "      <td>A</td>\n",
       "      <td>825</td>\n",
       "      <td>0.62</td>\n",
       "      <td>511.50</td>\n",
       "      <td>62.0</td>\n",
       "      <td>0.306577</td>\n",
       "    </tr>\n",
       "    <tr>\n",
       "      <th>1</th>\n",
       "      <td>m</td>\n",
       "      <td>B</td>\n",
       "      <td>560</td>\n",
       "      <td>0.63</td>\n",
       "      <td>352.80</td>\n",
       "      <td>63.0</td>\n",
       "      <td>0.208101</td>\n",
       "    </tr>\n",
       "    <tr>\n",
       "      <th>2</th>\n",
       "      <td>m</td>\n",
       "      <td>C</td>\n",
       "      <td>325</td>\n",
       "      <td>0.37</td>\n",
       "      <td>120.25</td>\n",
       "      <td>37.0</td>\n",
       "      <td>0.120773</td>\n",
       "    </tr>\n",
       "    <tr>\n",
       "      <th>3</th>\n",
       "      <td>m</td>\n",
       "      <td>D</td>\n",
       "      <td>417</td>\n",
       "      <td>0.33</td>\n",
       "      <td>137.61</td>\n",
       "      <td>33.0</td>\n",
       "      <td>0.154961</td>\n",
       "    </tr>\n",
       "    <tr>\n",
       "      <th>4</th>\n",
       "      <td>m</td>\n",
       "      <td>E</td>\n",
       "      <td>191</td>\n",
       "      <td>0.28</td>\n",
       "      <td>53.48</td>\n",
       "      <td>28.0</td>\n",
       "      <td>0.070977</td>\n",
       "    </tr>\n",
       "    <tr>\n",
       "      <th>5</th>\n",
       "      <td>m</td>\n",
       "      <td>F</td>\n",
       "      <td>373</td>\n",
       "      <td>0.06</td>\n",
       "      <td>22.38</td>\n",
       "      <td>6.0</td>\n",
       "      <td>0.138610</td>\n",
       "    </tr>\n",
       "    <tr>\n",
       "      <th>6</th>\n",
       "      <td>w</td>\n",
       "      <td>A</td>\n",
       "      <td>108</td>\n",
       "      <td>0.82</td>\n",
       "      <td>88.56</td>\n",
       "      <td>82.0</td>\n",
       "      <td>0.058856</td>\n",
       "    </tr>\n",
       "    <tr>\n",
       "      <th>7</th>\n",
       "      <td>w</td>\n",
       "      <td>B</td>\n",
       "      <td>25</td>\n",
       "      <td>0.68</td>\n",
       "      <td>17.00</td>\n",
       "      <td>68.0</td>\n",
       "      <td>0.013624</td>\n",
       "    </tr>\n",
       "    <tr>\n",
       "      <th>8</th>\n",
       "      <td>w</td>\n",
       "      <td>C</td>\n",
       "      <td>593</td>\n",
       "      <td>0.34</td>\n",
       "      <td>201.62</td>\n",
       "      <td>34.0</td>\n",
       "      <td>0.323161</td>\n",
       "    </tr>\n",
       "    <tr>\n",
       "      <th>9</th>\n",
       "      <td>w</td>\n",
       "      <td>D</td>\n",
       "      <td>375</td>\n",
       "      <td>0.35</td>\n",
       "      <td>131.25</td>\n",
       "      <td>35.0</td>\n",
       "      <td>0.204360</td>\n",
       "    </tr>\n",
       "    <tr>\n",
       "      <th>10</th>\n",
       "      <td>w</td>\n",
       "      <td>E</td>\n",
       "      <td>393</td>\n",
       "      <td>0.24</td>\n",
       "      <td>94.32</td>\n",
       "      <td>24.0</td>\n",
       "      <td>0.214169</td>\n",
       "    </tr>\n",
       "    <tr>\n",
       "      <th>11</th>\n",
       "      <td>w</td>\n",
       "      <td>F</td>\n",
       "      <td>341</td>\n",
       "      <td>0.07</td>\n",
       "      <td>23.87</td>\n",
       "      <td>7.0</td>\n",
       "      <td>0.185831</td>\n",
       "    </tr>\n",
       "  </tbody>\n",
       "</table>\n",
       "</div>"
      ],
      "text/plain": [
       "   gender department  applicants  admissions  admitted  admissions_percentage  \\\n",
       "0       m          A         825        0.62    511.50                   62.0   \n",
       "1       m          B         560        0.63    352.80                   63.0   \n",
       "2       m          C         325        0.37    120.25                   37.0   \n",
       "3       m          D         417        0.33    137.61                   33.0   \n",
       "4       m          E         191        0.28     53.48                   28.0   \n",
       "5       m          F         373        0.06     22.38                    6.0   \n",
       "6       w          A         108        0.82     88.56                   82.0   \n",
       "7       w          B          25        0.68     17.00                   68.0   \n",
       "8       w          C         593        0.34    201.62                   34.0   \n",
       "9       w          D         375        0.35    131.25                   35.0   \n",
       "10      w          E         393        0.24     94.32                   24.0   \n",
       "11      w          F         341        0.07     23.87                    7.0   \n",
       "\n",
       "    weight_by_gender_department  \n",
       "0                      0.306577  \n",
       "1                      0.208101  \n",
       "2                      0.120773  \n",
       "3                      0.154961  \n",
       "4                      0.070977  \n",
       "5                      0.138610  \n",
       "6                      0.058856  \n",
       "7                      0.013624  \n",
       "8                      0.323161  \n",
       "9                      0.204360  \n",
       "10                     0.214169  \n",
       "11                     0.185831  "
      ]
     },
     "execution_count": 5,
     "metadata": {},
     "output_type": "execute_result"
    }
   ],
   "source": [
    "data_department\n"
   ]
  },
  {
   "cell_type": "code",
   "execution_count": 6,
   "metadata": {},
   "outputs": [
    {
     "data": {
      "text/html": [
       "<div>\n",
       "<style scoped>\n",
       "    .dataframe tbody tr th:only-of-type {\n",
       "        vertical-align: middle;\n",
       "    }\n",
       "\n",
       "    .dataframe tbody tr th {\n",
       "        vertical-align: top;\n",
       "    }\n",
       "\n",
       "    .dataframe thead th {\n",
       "        text-align: right;\n",
       "    }\n",
       "</style>\n",
       "<table border=\"1\" class=\"dataframe\">\n",
       "  <thead>\n",
       "    <tr style=\"text-align: right;\">\n",
       "      <th></th>\n",
       "      <th>department</th>\n",
       "      <th>applicants</th>\n",
       "      <th>admissions</th>\n",
       "      <th>admitted</th>\n",
       "      <th>admissions_percentage</th>\n",
       "      <th>weight_by_gender_department</th>\n",
       "    </tr>\n",
       "    <tr>\n",
       "      <th>gender</th>\n",
       "      <th></th>\n",
       "      <th></th>\n",
       "      <th></th>\n",
       "      <th></th>\n",
       "      <th></th>\n",
       "      <th></th>\n",
       "    </tr>\n",
       "  </thead>\n",
       "  <tbody>\n",
       "    <tr>\n",
       "      <th>m</th>\n",
       "      <td>ABCDEF</td>\n",
       "      <td>2691</td>\n",
       "      <td>0.45</td>\n",
       "      <td>1198.02</td>\n",
       "      <td>229.0</td>\n",
       "      <td>1.0</td>\n",
       "    </tr>\n",
       "    <tr>\n",
       "      <th>w</th>\n",
       "      <td>ABCDEF</td>\n",
       "      <td>1835</td>\n",
       "      <td>0.30</td>\n",
       "      <td>556.62</td>\n",
       "      <td>250.0</td>\n",
       "      <td>1.0</td>\n",
       "    </tr>\n",
       "  </tbody>\n",
       "</table>\n",
       "</div>"
      ],
      "text/plain": [
       "       department  applicants  admissions  admitted  admissions_percentage  \\\n",
       "gender                                                                       \n",
       "m          ABCDEF        2691        0.45   1198.02                  229.0   \n",
       "w          ABCDEF        1835        0.30    556.62                  250.0   \n",
       "\n",
       "        weight_by_gender_department  \n",
       "gender                               \n",
       "m                               1.0  \n",
       "w                               1.0  "
      ]
     },
     "execution_count": 6,
     "metadata": {},
     "output_type": "execute_result"
    }
   ],
   "source": [
    "data_gender = data_department.groupby('gender').sum()\n",
    "data_gender['admissions'] = (data_gender['admitted'] / data_gender['applicants']).round(2)\n",
    "data_gender"
   ]
  },
  {
   "cell_type": "markdown",
   "metadata": {},
   "source": [
    "### Mix effects"
   ]
  },
  {
   "cell_type": "code",
   "execution_count": 7,
   "metadata": {},
   "outputs": [],
   "source": [
    "result = mixcontribution(components=data_men['department'], w1=data_women['weight_by_gender_department'], x1=data_women['admissions'],\n",
    "    w2=data_men['weight_by_gender_department'], x2=data_men['admissions'], name1='women', name2='men')"
   ]
  },
  {
   "cell_type": "code",
   "execution_count": 8,
   "metadata": {},
   "outputs": [
    {
     "data": {
      "text/plain": [
       "{'m1': np.float64(0.3033351498637602),\n",
       " 'm2': np.float64(0.4451950947603121),\n",
       " 'deltam': np.float64(0.1418599448965519),\n",
       " 'deltam_rel': np.float64(0.4676673473557773),\n",
       " 'w2x1': np.float64(0.514938684503902),\n",
       " 'delta_values': np.float64(-0.0697435897435899),\n",
       " 'delta_weights': np.float64(0.2116035346401418),\n",
       " 'p_values': np.float64(-0.49163694370845),\n",
       " 'p_weights': np.float64(1.49163694370845)}"
      ]
     },
     "execution_count": 8,
     "metadata": {},
     "output_type": "execute_result"
    }
   ],
   "source": [
    "result"
   ]
  },
  {
   "cell_type": "code",
   "execution_count": 11,
   "metadata": {},
   "outputs": [
    {
     "name": "stdout",
     "output_type": "stream",
     "text": [
      "-0.0697435897435899 -0.49163694370845\n"
     ]
    }
   ],
   "source": [
    "print(result['delta_values'], result['p_values'])"
   ]
  },
  {
   "cell_type": "code",
   "execution_count": 128,
   "metadata": {},
   "outputs": [],
   "source": [
    "def mixcontribution_2(components, w1, x1, w2, x2, name1=\"reference\", name2=\"value\", verbose = True, unit = \"\"):\n",
    "    \"\"\"\n",
    "    Computes contribution of weights and values to the differences between two weighted kpis (m1 and m1)\n",
    "\n",
    "    Args:\n",
    "        components: panda series with names for each component.\n",
    "        w1: panda series with weights to compute kpi1 (m1) for each component\n",
    "        x1: panda series with values to compute kpi1 (m1) for each component\n",
    "        w2: panda series with weights to compute kpi2 (m2) for each component\n",
    "        x2: panda series with values to compute kpi2 (m2) for each component\n",
    "        name1: name of kpi1 (m1=np.dot(w1,x1)). By default 'reference' as the difference is computed as m2 - m1\n",
    "        name2: name of kpi2 (m2=np.dot(w2,x2)). By default 'value' as the difference is computed as m2 - m1\n",
    "\n",
    "    Returns:\n",
    "        dictionary with several values to compute mix impact:\n",
    "            m1: kpi1 np.dot(w1,x1)\n",
    "            m2: kpi2 np.dot(w2,x2)\n",
    "            deltam: difference between m2 and m1, also called gap\n",
    "            deltam_rel: relative difference between m2 and m1\n",
    "            w2x1: kpi1 computed keeping weights as in kpi2\n",
    "            delta_values: deltam part that can be attributed to differences in values across components\n",
    "            delta_weights: deltam part that can be attributed to differences in weights across components\n",
    "            p_values: proportion of deltam attributed to difference in values\n",
    "            p_weights: proportion of deltam attributed to difference in weights\n",
    "    \"\"\"\n",
    "    # test: w1, x1, w2, x2 are numpy arrays of equal length\n",
    "    # components is a list of characters equal lenght of w1, x1, w2, x2\n",
    "    \n",
    "    m1 = np.dot(w1, x1)\n",
    "    m2 = np.dot(w2, x2)\n",
    "    deltam = m2 - m1\n",
    "    deltam_rel = m2 / m1 - 1\n",
    "    w2x1 = np.dot(w2, x1)\n",
    "    delta_values = m2 - w2x1\n",
    "    delta_weights = w2x1 - m1\n",
    "    p_values = delta_values / deltam\n",
    "    p_weights = delta_weights / deltam\n",
    "    n = components.size\n",
    "    diff_by_component = x2.values - x1.values\n",
    "\n",
    "    formatted_output = f\"\"\"\n",
    "    Difference between {name2} kpi ({m2:.2f}) and {name1} kpi ({m1:.2f}), {deltam:.2f}{unit} ({deltam_rel * 100:.1f}%), can be split as:\n",
    "    * {delta_values:.2f}{unit} due to actual difference between {name2} kpi and {name1} kpi across the {n} components, and\n",
    "    * {delta_weights:.2f}{unit} due to the difference in the weights of each component for {name2} kpi and {name1} kpi\n",
    "    In relative terms, value difference account for {100*p_values:.1f}% of the gap and the weights account for {100*p_weights:.1f}%.\n",
    "    \"\"\"\n",
    "    if verbose:\n",
    "        print(formatted_output)\n",
    "    else:\n",
    "        return({\n",
    "            'm1' : m1, 'm2' : m2,\n",
    "            'deltam' : deltam, 'deltam_rel' : deltam_rel,\n",
    "            'w2x1' : w2x1,\n",
    "            'delta_values' : delta_values, 'delta_weights' : delta_weights,\n",
    "            'p_values' : p_values, 'p_weights' : p_weights,\n",
    "            'number of components' : n,\n",
    "            'components' : components.tolist(),\n",
    "            'difference by component' : diff_by_component.tolist()\n",
    "        })"
   ]
  },
  {
   "cell_type": "code",
   "execution_count": 129,
   "metadata": {},
   "outputs": [
    {
     "name": "stdout",
     "output_type": "stream",
     "text": [
      "\n",
      "    Difference between men kpi (0.45) and women kpi (0.30), 0.14 (46.8%), can be split as:\n",
      "    * -0.07 due to actual difference between men kpi and women kpi across the 6 components, and\n",
      "    * 0.21 due to the difference in the weights of each component for men kpi and women kpi\n",
      "    In relative terms, value difference account for -49.2% of the gap and the weights account for 149.2%.\n",
      "    \n"
     ]
    }
   ],
   "source": [
    "mixcontribution_2(components=data_men['department'], w1=data_women['weight_by_gender_department'], x1=data_women['admissions'],\n",
    "    w2=data_men['weight_by_gender_department'], x2=data_men['admissions'], name1='women', name2='men')"
   ]
  },
  {
   "cell_type": "code",
   "execution_count": 48,
   "metadata": {},
   "outputs": [
    {
     "data": {
      "text/plain": [
       "{'m1': np.float64(0.3033351498637602),\n",
       " 'm2': np.float64(0.4451950947603121),\n",
       " 'deltam': np.float64(0.1418599448965519),\n",
       " 'deltam_rel': np.float64(0.4676673473557773),\n",
       " 'w2x1': np.float64(0.514938684503902),\n",
       " 'delta_values': np.float64(-0.0697435897435899),\n",
       " 'delta_weights': np.float64(0.2116035346401418),\n",
       " 'p_values': np.float64(-0.49163694370845),\n",
       " 'p_weights': np.float64(1.49163694370845),\n",
       " 'number of components': 6,\n",
       " 'components': ['A', 'B', 'C', 'D', 'E', 'F'],\n",
       " 'difference by component': [-0.19999999999999996,\n",
       "  -0.050000000000000044,\n",
       "  0.02999999999999997,\n",
       "  -0.019999999999999962,\n",
       "  0.040000000000000036,\n",
       "  -0.010000000000000009]}"
      ]
     },
     "execution_count": 48,
     "metadata": {},
     "output_type": "execute_result"
    }
   ],
   "source": [
    "mixcontribution_2(components=data_men['department'], w1=data_women['weight_by_gender_deparment'], x1=data_women['admissions'],\n",
    "    w2=data_men['weight_by_gender_deparment'], x2=data_men['admissions'], name1='women', name2='men',  verbose=False)"
   ]
  },
  {
   "cell_type": "code",
   "execution_count": 80,
   "metadata": {},
   "outputs": [
    {
     "name": "stdout",
     "output_type": "stream",
     "text": [
      "\n",
      "    Difference between men kpi (44.52) and women kpi (30.33), 14.19 pp (46.8%), can be split as:\n",
      "    * -6.97 pp due to actual difference between men kpi and women kpi across the 6 components, and\n",
      "    * 21.16 pp due to the difference in the weights of each component for men kpi and women kpi\n",
      "    In relative terms, value difference account for -49.2% of the gap and the weights account for 149.2%.\n",
      "    \n"
     ]
    }
   ],
   "source": [
    "mixcontribution_2(components=data_men['department'], w1=data_women['weight_by_gender_department'], x1=data_women['admissions_percentage'],\n",
    "    w2=data_men['weight_by_gender_department'], x2=data_men['admissions_percentage'], name1='women', name2='men', unit = \" pp\")"
   ]
  },
  {
   "cell_type": "markdown",
   "metadata": {},
   "source": [
    "### Class MixEffectImpact"
   ]
  },
  {
   "cell_type": "code",
   "execution_count": 9,
   "metadata": {},
   "outputs": [],
   "source": [
    "resp = mixeffects.MixEffectImpact(data_men['department'], data_women['weight_by_gender_department'], data_women['admissions_percentage'],\n",
    "    data_men['weight_by_gender_department'], data_men['admissions_percentage'])"
   ]
  },
  {
   "cell_type": "code",
   "execution_count": 10,
   "metadata": {},
   "outputs": [
    {
     "data": {
      "text/plain": [
       "array([-20.,  -5.,   3.,  -2.,   4.,  -1.])"
      ]
     },
     "execution_count": 10,
     "metadata": {},
     "output_type": "execute_result"
    }
   ],
   "source": [
    "resp.diff_by_component"
   ]
  },
  {
   "cell_type": "code",
   "execution_count": 11,
   "metadata": {},
   "outputs": [],
   "source": [
    "data_wide = data_department.pivot_table(index='department', columns='gender', \n",
    "    values=['applicants', 'admissions', 'admitted', 'admissions_percentage','weight_by_gender_department'])\n",
    "data_wide.columns = ['_'.join(col).strip() for col in data_wide.columns.values]\n",
    "data_wide = data_wide.reset_index()\n",
    "data_required = data_wide[['department', 'weight_by_gender_department_w', 'admissions_percentage_w', \n",
    "    'weight_by_gender_department_m', 'admissions_percentage_m']]\n",
    "data_in_columns = [data_required[col] for col in data_required]"
   ]
  },
  {
   "cell_type": "code",
   "execution_count": 115,
   "metadata": {},
   "outputs": [
    {
     "name": "stdout",
     "output_type": "stream",
     "text": [
      "  department  weight_by_gender_department_w  admissions_percentage_w  \\\n",
      "0          A                       0.058856                     82.0   \n",
      "1          B                       0.013624                     68.0   \n",
      "2          C                       0.323161                     34.0   \n",
      "3          D                       0.204360                     35.0   \n",
      "4          E                       0.214169                     24.0   \n",
      "5          F                       0.185831                      7.0   \n",
      "\n",
      "   weight_by_gender_department_m  admissions_percentage_m  \n",
      "0                       0.306577                     62.0  \n",
      "1                       0.208101                     63.0  \n",
      "2                       0.120773                     37.0  \n",
      "3                       0.154961                     33.0  \n",
      "4                       0.070977                     28.0  \n",
      "5                       0.138610                      6.0  \n"
     ]
    }
   ],
   "source": [
    "print(data_required)"
   ]
  },
  {
   "cell_type": "markdown",
   "metadata": {},
   "source": [
    "### Pass values in a dataframe"
   ]
  },
  {
   "cell_type": "code",
   "execution_count": 15,
   "metadata": {},
   "outputs": [],
   "source": [
    "resp2 = mixeffects.MixEffectImpact(*data_required.T.values)"
   ]
  },
  {
   "cell_type": "code",
   "execution_count": 16,
   "metadata": {},
   "outputs": [
    {
     "data": {
      "text/plain": [
       "array([-20.0, -5.0, 3.0, -2.0, 4.0000000000000036, -1.0000000000000009],\n",
       "      dtype=object)"
      ]
     },
     "execution_count": 16,
     "metadata": {},
     "output_type": "execute_result"
    }
   ],
   "source": [
    "resp2.diff_by_component"
   ]
  },
  {
   "cell_type": "code",
   "execution_count": 17,
   "metadata": {},
   "outputs": [
    {
     "name": "stdout",
     "output_type": "stream",
     "text": [
      "['A' 'B' 'C' 'D' 'E' 'F'] [0.05885558583106267 0.013623978201634877 0.3231607629427793\n",
      " 0.20435967302452315 0.21416893732970027 0.18583106267029972] [82.0 68.0 34.0 35.0 24.0 7.000000000000001] [0.30657748049052397 0.20810107766629507 0.12077294685990338\n",
      " 0.15496098104793757 0.07097733184689707 0.13861018208844295] [62.0 63.0 37.0 33.0 28.000000000000004 6.0]\n"
     ]
    }
   ],
   "source": [
    "print(*data_required.T.values)"
   ]
  },
  {
   "cell_type": "code",
   "execution_count": 18,
   "metadata": {},
   "outputs": [],
   "source": [
    "resp3 = mixeffects.MixEffectImpact(*[data_required[col] for col in data_required])"
   ]
  },
  {
   "cell_type": "code",
   "execution_count": 19,
   "metadata": {},
   "outputs": [
    {
     "name": "stdout",
     "output_type": "stream",
     "text": [
      "[0    A\n",
      "1    B\n",
      "2    C\n",
      "3    D\n",
      "4    E\n",
      "5    F\n",
      "Name: department, dtype: object, 0    0.058856\n",
      "1    0.013624\n",
      "2    0.323161\n",
      "3    0.204360\n",
      "4    0.214169\n",
      "5    0.185831\n",
      "Name: weight_by_gender_department_w, dtype: float64, 0    82.0\n",
      "1    68.0\n",
      "2    34.0\n",
      "3    35.0\n",
      "4    24.0\n",
      "5     7.0\n",
      "Name: admissions_percentage_w, dtype: float64, 0    0.306577\n",
      "1    0.208101\n",
      "2    0.120773\n",
      "3    0.154961\n",
      "4    0.070977\n",
      "5    0.138610\n",
      "Name: weight_by_gender_department_m, dtype: float64, 0    62.0\n",
      "1    63.0\n",
      "2    37.0\n",
      "3    33.0\n",
      "4    28.0\n",
      "5     6.0\n",
      "Name: admissions_percentage_m, dtype: float64]\n"
     ]
    }
   ],
   "source": [
    "print(data_in_columns)"
   ]
  },
  {
   "cell_type": "code",
   "execution_count": 140,
   "metadata": {},
   "outputs": [
    {
     "data": {
      "text/plain": [
       "list"
      ]
     },
     "execution_count": 140,
     "metadata": {},
     "output_type": "execute_result"
    }
   ],
   "source": [
    "type(data_in_columns)"
   ]
  },
  {
   "cell_type": "code",
   "execution_count": 20,
   "metadata": {},
   "outputs": [
    {
     "data": {
      "text/plain": [
       "array([-20.,  -5.,   3.,  -2.,   4.,  -1.])"
      ]
     },
     "execution_count": 20,
     "metadata": {},
     "output_type": "execute_result"
    }
   ],
   "source": [
    "resp3.diff_by_component"
   ]
  },
  {
   "cell_type": "code",
   "execution_count": 12,
   "metadata": {},
   "outputs": [],
   "source": [
    "resp4 = mixeffects.MixEffectImpact(*data_in_columns)"
   ]
  },
  {
   "cell_type": "code",
   "execution_count": 13,
   "metadata": {},
   "outputs": [
    {
     "data": {
      "text/plain": [
       "array([-20.,  -5.,   3.,  -2.,   4.,  -1.])"
      ]
     },
     "execution_count": 13,
     "metadata": {},
     "output_type": "execute_result"
    }
   ],
   "source": [
    "resp4.diff_by_component"
   ]
  },
  {
   "cell_type": "code",
   "execution_count": 14,
   "metadata": {},
   "outputs": [
    {
     "name": "stdout",
     "output_type": "stream",
     "text": [
      "\n",
      "        Difference between kpi2 (44.52) and kpi1 (30.33), 14.19 (46.8%), can be split as:\n",
      "        * -6.97 due to actual difference between kpi2 and kpi1 across the 6 components, and\n",
      "        * 21.16 due to the difference in the weights of each component for kpi2 and kpi1\n",
      "        In relative terms, value difference account for -49.2% of the gap and the weights account for 149.2%.\n",
      "        \n"
     ]
    }
   ],
   "source": [
    "print(resp4)"
   ]
  }
 ],
 "metadata": {
  "kernelspec": {
   "display_name": ".venv",
   "language": "python",
   "name": "python3"
  },
  "language_info": {
   "codemirror_mode": {
    "name": "ipython",
    "version": 3
   },
   "file_extension": ".py",
   "mimetype": "text/x-python",
   "name": "python",
   "nbconvert_exporter": "python",
   "pygments_lexer": "ipython3",
   "version": "3.12.4"
  }
 },
 "nbformat": 4,
 "nbformat_minor": 2
}
